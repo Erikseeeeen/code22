{
 "cells": [
  {
   "cell_type": "code",
   "execution_count": 160,
   "metadata": {},
   "outputs": [
    {
     "ename": "TypeError",
     "evalue": "absolute() got an unexpected keyword argument 'nan_policy'",
     "output_type": "error",
     "traceback": [
      "\u001b[0;31m---------------------------------------------------------------------------\u001b[0m",
      "\u001b[0;31mTypeError\u001b[0m                                 Traceback (most recent call last)",
      "Cell \u001b[0;32mIn [160], line 29\u001b[0m\n\u001b[1;32m     26\u001b[0m             rows\u001b[39m.\u001b[39mappend((column, outlier_rows\u001b[39m.\u001b[39mindex\u001b[39m.\u001b[39mtolist()))\n\u001b[1;32m     27\u001b[0m     \u001b[39mreturn\u001b[39;00m rows\n\u001b[0;32m---> 29\u001b[0m get_suspicious_changes(\u001b[39m\"\u001b[39;49m\u001b[39mdata.csv\u001b[39;49m\u001b[39m\"\u001b[39;49m)\n",
      "Cell \u001b[0;32mIn [160], line 23\u001b[0m, in \u001b[0;36mget_suspicious_changes\u001b[0;34m(file)\u001b[0m\n\u001b[1;32m     21\u001b[0m rows \u001b[39m=\u001b[39m []\n\u001b[1;32m     22\u001b[0m \u001b[39mfor\u001b[39;00m column \u001b[39min\u001b[39;00m pf\u001b[39m.\u001b[39mcolumns:\n\u001b[0;32m---> 23\u001b[0m     outlier_rows \u001b[39m=\u001b[39m pf[(np\u001b[39m.\u001b[39;49mabs(stats\u001b[39m.\u001b[39;49mzscore(pf[column]), nan_policy\u001b[39m=\u001b[39;49m\u001b[39m\"\u001b[39;49m\u001b[39momit\u001b[39;49m\u001b[39m\"\u001b[39;49m) \u001b[39m>\u001b[39m \u001b[39m0.0\u001b[39m)]\n\u001b[1;32m     24\u001b[0m     \u001b[39mprint\u001b[39m(outlier_rows)\n\u001b[1;32m     25\u001b[0m     \u001b[39mif\u001b[39;00m outlier_rows\u001b[39m.\u001b[39mindex\u001b[39m.\u001b[39msize \u001b[39m>\u001b[39m \u001b[39m0\u001b[39m:\n",
      "\u001b[0;31mTypeError\u001b[0m: absolute() got an unexpected keyword argument 'nan_policy'"
     ]
    }
   ],
   "source": [
    "import pandas as pd\n",
    "import numpy as np\n",
    "import matplotlib.pyplot as plt\n",
    "import seaborn as sns\n",
    "import matplotlib\n",
    "from sklearn.ensemble import IsolationForest\n",
    "from scipy import stats\n",
    "\n",
    "def get_suspicious_rows(file):\n",
    "    df = pd.read_csv(file, sep=\";\")\n",
    "    rows = []\n",
    "    for column in df.columns:\n",
    "        outlier_rows = df[(np.abs(stats.zscore(df[column])) > 3.0)]\n",
    "        if outlier_rows.index.size > 0:\n",
    "            rows.append((column, outlier_rows.index.tolist()))\n",
    "    return rows\n",
    "\n",
    "def get_suspicious_changes(file):\n",
    "    df = pd.read_csv(file, sep=\";\")\n",
    "    pf = df.diff()\n",
    "    rows = []\n",
    "    for column in pf.columns:\n",
    "        outlier_rows = pf[(np.abs(stats.zscore(pf[column], nan_policy=\"omit\"), ) > 0.0)]\n",
    "        print(outlier_rows)\n",
    "        if outlier_rows.index.size > 0:\n",
    "            rows.append((column, outlier_rows.index.tolist()))\n",
    "    return rows\n",
    "\n",
    "get_suspicious_changes(\"data.csv\")\n"
   ]
  },
  {
   "cell_type": "code",
   "execution_count": null,
   "metadata": {},
   "outputs": [],
   "source": []
  }
 ],
 "metadata": {
  "kernelspec": {
   "display_name": "Python 3.10.7 64-bit",
   "language": "python",
   "name": "python3"
  },
  "language_info": {
   "codemirror_mode": {
    "name": "ipython",
    "version": 3
   },
   "file_extension": ".py",
   "mimetype": "text/x-python",
   "name": "python",
   "nbconvert_exporter": "python",
   "pygments_lexer": "ipython3",
   "version": "3.10.8"
  },
  "orig_nbformat": 4,
  "vscode": {
   "interpreter": {
    "hash": "b0fa6594d8f4cbf19f97940f81e996739fb7646882a419484c72d19e05852a7e"
   }
  }
 },
 "nbformat": 4,
 "nbformat_minor": 2
}
